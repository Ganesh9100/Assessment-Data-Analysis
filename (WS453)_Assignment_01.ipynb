{
  "nbformat": 4,
  "nbformat_minor": 0,
  "metadata": {
    "colab": {
      "name": "(WS453)_Assignment-01.ipynb",
      "provenance": [],
      "collapsed_sections": [],
      "authorship_tag": "ABX9TyMGwgdiImr0lsWy3UPQA7qy",
      "include_colab_link": true
    },
    "kernelspec": {
      "name": "python3",
      "display_name": "Python 3"
    }
  },
  "cells": [
    {
      "cell_type": "markdown",
      "metadata": {
        "id": "view-in-github",
        "colab_type": "text"
      },
      "source": [
        "<a href=\"https://colab.research.google.com/github/Ganesh9100/Workshop-Data-Analysis/blob/master/(WS453)_Assignment_01.ipynb\" target=\"_parent\"><img src=\"https://colab.research.google.com/assets/colab-badge.svg\" alt=\"Open In Colab\"/></a>"
      ]
    },
    {
      "cell_type": "markdown",
      "metadata": {
        "id": "dDIrdfV4lkwM",
        "colab_type": "text"
      },
      "source": [
        "***Data Analysis Using Python Assignment-01***\n",
        "\n",
        "\n",
        "**-----------------------------------------------------------------------**\n",
        "\n",
        "\n",
        "**Name        :  GaneshRaj V**\n",
        "\n",
        "**WS Number   : *WS453***\n",
        "\n",
        "**College Name: Vel High-Tech Dr.RR and Dr.SR Engineering College**\n",
        "\n",
        "\n",
        "**---------------------------------------------------------------------------**\n",
        "\n"
      ]
    },
    {
      "cell_type": "code",
      "metadata": {
        "id": "GvZ_dMAhdTaw",
        "colab_type": "code",
        "colab": {}
      },
      "source": [
        ""
      ],
      "execution_count": null,
      "outputs": []
    },
    {
      "cell_type": "markdown",
      "metadata": {
        "id": "b8liFOPLlmQ6",
        "colab_type": "text"
      },
      "source": [
        " \n",
        "1.\n",
        "**Create two 2D array with 30 elements. Give array name array1, array2.**\n",
        "\n",
        "**Do the element-wise comparison of array1, array2.**\n",
        "\n",
        "**[Hint: less, less than, greater, greater than]**"
      ]
    },
    {
      "cell_type": "code",
      "metadata": {
        "id": "hPZuQBBKntNn",
        "colab_type": "code",
        "colab": {}
      },
      "source": [
        "import numpy as np"
      ],
      "execution_count": null,
      "outputs": []
    },
    {
      "cell_type": "code",
      "metadata": {
        "id": "fUJ2h13olpLP",
        "colab_type": "code",
        "colab": {
          "base_uri": "https://localhost:8080/",
          "height": 272
        },
        "outputId": "b10c3ff3-efc7-4d78-8489-a211581568dc"
      },
      "source": [
        "# Creating  two 2-D array of 30 elements with 2 and 4 as value respectively\n",
        "\n",
        "array1=np.full([6,5],2)\n",
        "print(\"Array_1\")\n",
        "print(array1)\n",
        "\n",
        "print(\"------------------------\")\n",
        "\n",
        "array2=np.full([6,5],4)\n",
        "print(\"Array_2\")\n",
        "print(array2)\n",
        "\n"
      ],
      "execution_count": null,
      "outputs": [
        {
          "output_type": "stream",
          "text": [
            "Array_1\n",
            "[[2 2 2 2 2]\n",
            " [2 2 2 2 2]\n",
            " [2 2 2 2 2]\n",
            " [2 2 2 2 2]\n",
            " [2 2 2 2 2]\n",
            " [2 2 2 2 2]]\n",
            "------------------------\n",
            "Array_2\n",
            "[[4 4 4 4 4]\n",
            " [4 4 4 4 4]\n",
            " [4 4 4 4 4]\n",
            " [4 4 4 4 4]\n",
            " [4 4 4 4 4]\n",
            " [4 4 4 4 4]]\n"
          ],
          "name": "stdout"
        }
      ]
    },
    {
      "cell_type": "code",
      "metadata": {
        "id": "BBVNtreCPvF6",
        "colab_type": "code",
        "colab": {
          "base_uri": "https://localhost:8080/",
          "height": 476
        },
        "outputId": "90a9cbe9-1876-4385-e85e-68cb061b2dcb"
      },
      "source": [
        "\n",
        "\"\"\" \n",
        "HERE WE ARE Do Element-Wise COMPARISION Array_1 and Array_2 \n",
        "\n",
        "Arguments:\n",
        "(arg1) :  type(Array)   ( array1 ) \n",
        "(arg2) :  type(Array)   ( array2 ) \n",
        "\n",
        "Returns:\n",
        "compare's the given Array's and return's in bool \n",
        "\n",
        "\"\"\"\n",
        "\n",
        "\n",
        "def is_equal(array1,array2):\n",
        "  print(\"IS Array_1 AND Array_2 ARE EQUAL\")\n",
        "  print()\n",
        "  return array1 == array2\n",
        "    \n",
        "def is_greater(array1,array2):\n",
        "  print(\"IS array_1 IS GREATER THAN Array_2\")\n",
        "  print()\n",
        "  return array1 > array2\n",
        "    \n",
        "def is_smaller(array1,array2):\n",
        "  print(\"IS Array_1 IS SMALLER THAN Array_2\")\n",
        "  print()\n",
        "  return array1 < array2\n",
        "    \n",
        "\n",
        "print(is_equal(array1,array2))\n",
        "print(\"------------------------------------------------------\")\n",
        "\n",
        "print(is_greater(array1,array2))\n",
        "print(\"------------------------------------------------------\")\n",
        "\n",
        "print(is_smaller(array1,array2))\n",
        "print(\"------------------------------------------------------\")"
      ],
      "execution_count": null,
      "outputs": [
        {
          "output_type": "stream",
          "text": [
            "IS Array_1 AND Array_2 ARE EQUAL\n",
            "\n",
            "[[False False False False False]\n",
            " [False False False False False]\n",
            " [False False False False False]\n",
            " [False False False False False]\n",
            " [False False False False False]\n",
            " [False False False False False]]\n",
            "------------------------------------------------------\n",
            "IS array_1 IS GREATER THAN Array_2\n",
            "\n",
            "[[False False False False False]\n",
            " [False False False False False]\n",
            " [False False False False False]\n",
            " [False False False False False]\n",
            " [False False False False False]\n",
            " [False False False False False]]\n",
            "------------------------------------------------------\n",
            "IS Array_1 IS SMALLER THAN Array_2\n",
            "\n",
            "[[ True  True  True  True  True]\n",
            " [ True  True  True  True  True]\n",
            " [ True  True  True  True  True]\n",
            " [ True  True  True  True  True]\n",
            " [ True  True  True  True  True]\n",
            " [ True  True  True  True  True]]\n",
            "------------------------------------------------------\n"
          ],
          "name": "stdout"
        }
      ]
    },
    {
      "cell_type": "code",
      "metadata": {
        "id": "4z7s6SM_oSdm",
        "colab_type": "code",
        "colab": {
          "base_uri": "https://localhost:8080/",
          "height": 493
        },
        "outputId": "832146c8-04cf-40cb-9b10-71c7ee23f665"
      },
      "source": [
        "\"\"\"\n",
        "I have created the Modular Function .\n",
        "HERE WE Compare the Array with a specific Number ( Element-Wise )\n",
        "\n",
        "Arguments:\n",
        "(arg1) :  Array ( array1 or array2) Change near print statement specified below \n",
        "(arg2) :  Number ( This is the input which user has to specify )\n",
        "\n",
        "Returns:\n",
        "compare's the given argument's and return's in bool \n",
        "\"\"\"\n",
        "\n",
        "\n",
        "\n",
        "\n",
        "\n",
        "def is_Equal(array,number):\n",
        "  print(\"Is array is EQUAL to Number\")\n",
        "  print()\n",
        "  return array == number\n",
        "       \n",
        "def Greater(array,number):\n",
        "  print(\"Is array Greater Than Number\")\n",
        "  print()\n",
        "  return array  >  number\n",
        "\n",
        "def Smaller(array,number):\n",
        "  print(\"Is array Smaller Than Number\")\n",
        "  print()\n",
        "  return array  <  array2\n",
        "\n",
        "n=int(input(\"Enter the number to Compare\"))\n",
        "\n",
        "# here i have called the function with array 1 , we can change from array 1 to array 2\n",
        "print(is_Equal(array1,n))\n",
        "print(\"------------------------------------------------------\")\n",
        "print(Greater(array1,n))\n",
        "print(\"------------------------------------------------------\")\n",
        "print(Smaller(array1,n))\n",
        "print(\"------------------------------------------------------\")"
      ],
      "execution_count": null,
      "outputs": [
        {
          "output_type": "stream",
          "text": [
            "Enter the number to Compare  5\n",
            "Is array is EQUAL to Number\n",
            "\n",
            "[[False False False False False]\n",
            " [False False False False False]\n",
            " [False False False False False]\n",
            " [False False False False False]\n",
            " [False False False False False]\n",
            " [False False False False False]]\n",
            "------------------------------------------------------\n",
            "Is array Greater Than Number\n",
            "\n",
            "[[False False False False False]\n",
            " [False False False False False]\n",
            " [False False False False False]\n",
            " [False False False False False]\n",
            " [False False False False False]\n",
            " [False False False False False]]\n",
            "------------------------------------------------------\n",
            "Is array Smaller Than Number\n",
            "\n",
            "[[ True  True  True  True  True]\n",
            " [ True  True  True  True  True]\n",
            " [ True  True  True  True  True]\n",
            " [ True  True  True  True  True]\n",
            " [ True  True  True  True  True]\n",
            " [ True  True  True  True  True]]\n",
            "------------------------------------------------------\n"
          ],
          "name": "stdout"
        }
      ]
    },
    {
      "cell_type": "markdown",
      "metadata": {
        "id": "bjRO7z6q33Hq",
        "colab_type": "text"
      },
      "source": [
        "2.\n",
        "\n",
        "**Use arange function to create two 2D array with 20 elements.**\n",
        "\n",
        "**Give array name\n",
        "array3, array4.**\n",
        "\n",
        "**Do element-wise comparison of array3, array4.**\n",
        "\n",
        "**[Hint:Equal, not Equal]**"
      ]
    },
    {
      "cell_type": "code",
      "metadata": {
        "id": "tPMefPivnwYE",
        "colab_type": "code",
        "colab": {
          "base_uri": "https://localhost:8080/",
          "height": 221
        },
        "outputId": "87daeede-40e6-4aa9-a81d-2253ef08557e"
      },
      "source": [
        "# Creating  two 2-D array using arange, with 20 elements \n",
        "\n",
        "array3=np.arange(20).reshape(4, 5)      #reshaping to 2-D    and  elements are in the range of ( 0-20 )\n",
        "print(\"Array_3\")\n",
        "print(array3)\n",
        "\n",
        "print(\"------------------------\")\n",
        "\n",
        "\n",
        "array4=np.arange(10,30).reshape(4, 5)   #reshaping with 2-D  and  elements are in the range of ( 10-30 )\n",
        "print(\"Array_4\")\n",
        "print()\n",
        "print(array4)\n"
      ],
      "execution_count": null,
      "outputs": [
        {
          "output_type": "stream",
          "text": [
            "Array_3\n",
            "[[ 0  1  2  3  4]\n",
            " [ 5  6  7  8  9]\n",
            " [10 11 12 13 14]\n",
            " [15 16 17 18 19]]\n",
            "------------------------\n",
            "Array_4\n",
            "\n",
            "[[10 11 12 13 14]\n",
            " [15 16 17 18 19]\n",
            " [20 21 22 23 24]\n",
            " [25 26 27 28 29]]\n"
          ],
          "name": "stdout"
        }
      ]
    },
    {
      "cell_type": "code",
      "metadata": {
        "id": "cg9Sk5OE4skq",
        "colab_type": "code",
        "colab": {
          "base_uri": "https://localhost:8080/",
          "height": 374
        },
        "outputId": "8491f883-a21b-4f7d-b598-1c232c7132f6"
      },
      "source": [
        "\n",
        "\"\"\" \n",
        "HERE WE ARE Do Element-Wise COMPARISION Array_3 and Array_4 \n",
        "\n",
        "Arguments:\n",
        "(arg1) :  type(Array)   ( array3 ) \n",
        "(arg2) :  type(Array)   ( array4 ) \n",
        "\n",
        "Returns:\n",
        "compare's the given Array's and return's in bool \n",
        "\n",
        "\"\"\"\n",
        "\n",
        "\n",
        "\n",
        "def is_equal(array3,array4):                      # Returns True if both the arrays are equal else False\n",
        "  print(\"IS THE Array 3 AND Array 4 ARE EQUAL\")\n",
        "  print()\n",
        "  return array3 == array4\n",
        "    \n",
        "def is_greater(array3,array4):                    # Returns True if array_3 is GREATER THAN array 4\n",
        "  print(\"IS THE Array 3 IS GREATER THAN Array 4\")\n",
        "  print()\n",
        "  return array3 > array4\n",
        "    \n",
        "def is_smaller(array3,array4):                     # Returns True if array_3 is SMALLER THAN array 4\n",
        "  print(\"IS THE Array 3 IS SMALLER THAN Array 4\")\n",
        "  print()\n",
        "  return array3  < array4\n",
        "    \n",
        "\n",
        "print(is_equal(array3,array4))\n",
        "print(\"------------------------------------------------------\")\n",
        "\n",
        "print(is_greater(array3,array4))\n",
        "print(\"------------------------------------------------------\")\n",
        "\n",
        "print(is_smaller(array3,array4))\n",
        "print(\"------------------------------------------------------\")"
      ],
      "execution_count": null,
      "outputs": [
        {
          "output_type": "stream",
          "text": [
            "IS THE Array 3 AND Array 4 ARE EQUAL\n",
            "\n",
            "[[False False False False False]\n",
            " [False False False False False]\n",
            " [False False False False False]\n",
            " [False False False False False]]\n",
            "------------------------------------------------------\n",
            "IS THE Array 3 IS GREATER THAN Array 4\n",
            "\n",
            "[[False False False False False]\n",
            " [False False False False False]\n",
            " [False False False False False]\n",
            " [False False False False False]]\n",
            "------------------------------------------------------\n",
            "IS THE Array 3 IS SMALLER THAN Array 4\n",
            "\n",
            "[[ True  True  True  True  True]\n",
            " [ True  True  True  True  True]\n",
            " [ True  True  True  True  True]\n",
            " [ True  True  True  True  True]]\n",
            "------------------------------------------------------\n"
          ],
          "name": "stdout"
        }
      ]
    },
    {
      "cell_type": "markdown",
      "metadata": {
        "id": "VMN9e0MJ8X0I",
        "colab_type": "text"
      },
      "source": [
        "3.\n",
        "\n",
        "**Create a full 1D array with size 16 and fill value with 20 and give array name array5.**\n",
        "\n",
        "**Check the size of memory occupied by the array5.**"
      ]
    },
    {
      "cell_type": "code",
      "metadata": {
        "id": "ZixAk3iB5wbf",
        "colab_type": "code",
        "colab": {
          "base_uri": "https://localhost:8080/",
          "height": 68
        },
        "outputId": "8810bf5b-44c5-46b4-fe17-2537dc1c9f01"
      },
      "source": [
        "array5=np.full(16,20)           # Creating 1-D array of 20 elements with default value 20\n",
        "print(\"Size of the array_5   :\",array5.size,\"bytes\")\n",
        "print(\"Array_5\")\n",
        "print(array5)"
      ],
      "execution_count": null,
      "outputs": [
        {
          "output_type": "stream",
          "text": [
            "Size of the array_5   : 16 bytes\n",
            "Array_5\n",
            "[20 20 20 20 20 20 20 20 20 20 20 20 20 20 20 20]\n"
          ],
          "name": "stdout"
        }
      ]
    },
    {
      "cell_type": "code",
      "metadata": {
        "id": "42c8yWwY8uL9",
        "colab_type": "code",
        "colab": {
          "base_uri": "https://localhost:8080/",
          "height": 34
        },
        "outputId": "6ef86a3d-f772-436b-a3e4-a68c0beff0c4"
      },
      "source": [
        "print(\"Memory occupied by the array 5 in bytes: \", array5.itemsize * array5.size) "
      ],
      "execution_count": null,
      "outputs": [
        {
          "output_type": "stream",
          "text": [
            "Memory occupied by the array 5 in bytes:  128\n"
          ],
          "name": "stdout"
        }
      ]
    },
    {
      "cell_type": "markdown",
      "metadata": {
        "id": "hw5RQU1E-Flk",
        "colab_type": "text"
      },
      "source": [
        "**4**\n",
        "\n",
        "**Create a single array(array6) with values ranging from 26 to 50 with float type**\n",
        "\n",
        "**create another array (array7) with values ranging from 51 to 75 with float type.**\n",
        "\n",
        "**Check the dimension, shape and size of given two arrays.**\n",
        " \n",
        "**Find the dot product of array6 and array7 and store values in array8.**"
      ]
    },
    {
      "cell_type": "code",
      "metadata": {
        "id": "2cprNJ8r9-VS",
        "colab_type": "code",
        "colab": {
          "base_uri": "https://localhost:8080/",
          "height": 153
        },
        "outputId": "4ab8b27a-d574-4fbf-e58d-ef1136701cda"
      },
      "source": [
        "arr1=np.arange(26,50)                # Storing 1-d array  of range (26-50) in arr1\n",
        "array6=np.array(arr1,dtype='float')  #Changing the array type and storing in array6 variable\n",
        "\n",
        "\n",
        "print(\"ARRAY_6\")\n",
        "print(array6)\n",
        "print()\n",
        "print(\"Dimension of array_6     :\",array6.ndim,\"-Dimension\")\n",
        "print(\"Shape of array_6         :\",array6.shape)\n",
        "print(\"Size of array_6          :\",array6.size,\"bytes\")\n",
        "print(\"Total memory of array_6  :\",array6.size * array6.itemsize,\"bytes\")"
      ],
      "execution_count": null,
      "outputs": [
        {
          "output_type": "stream",
          "text": [
            "ARRAY_6\n",
            "[26. 27. 28. 29. 30. 31. 32. 33. 34. 35. 36. 37. 38. 39. 40. 41. 42. 43.\n",
            " 44. 45. 46. 47. 48. 49.]\n",
            "\n",
            "Dimension of array_6     : 1 -Dimension\n",
            "Shape of array_6         : (24,)\n",
            "Size of array_6          : 24 bytes\n",
            "Total memory of array_6  : 192 bytes\n"
          ],
          "name": "stdout"
        }
      ]
    },
    {
      "cell_type": "code",
      "metadata": {
        "id": "dFBEKf2f_DSs",
        "colab_type": "code",
        "colab": {
          "base_uri": "https://localhost:8080/",
          "height": 153
        },
        "outputId": "6da04dc5-0a14-4215-9b45-a6fa26282053"
      },
      "source": [
        "arr2=np.arange(51,75)                # Storing 1-d array of range (51-75) in arr2\n",
        "array7=np.array(arr2,dtype='float')  #Changing the array type and storing in array7 variable\n",
        "\n",
        "print(\"ARRAY_7\")\n",
        "print(array7)\n",
        "print()\n",
        "print(\"Dimension of array_7     :\",array7.ndim,\"-Dimension\")\n",
        "print(\"Shape of array_7         :\",array7.shape)\n",
        "print(\"Size of array_7          :\",array7.size,\"bytes\")\n",
        "print(\"Total memory of array_7  :\",array7.size  * array7.itemsize,\"bytes\")"
      ],
      "execution_count": null,
      "outputs": [
        {
          "output_type": "stream",
          "text": [
            "ARRAY_7\n",
            "[51. 52. 53. 54. 55. 56. 57. 58. 59. 60. 61. 62. 63. 64. 65. 66. 67. 68.\n",
            " 69. 70. 71. 72. 73. 74.]\n",
            "\n",
            "Dimension of array_7     : 1 -Dimension\n",
            "Shape of array_7         : (24,)\n",
            "Size of array_7          : 24 bytes\n",
            "Total memory of array_7  : 192 bytes\n"
          ],
          "name": "stdout"
        }
      ]
    },
    {
      "cell_type": "code",
      "metadata": {
        "id": "m7kplMMwBSCg",
        "colab_type": "code",
        "colab": {
          "base_uri": "https://localhost:8080/",
          "height": 34
        },
        "outputId": "67dc6f47-3d09-4bc0-9a51-ba9a981d9d7c"
      },
      "source": [
        "array8=np.dot(array6,array7)\n",
        "print(\"The dot-product of ARRAY 6 and ARRAY 7 is  :  \",array_8)\n"
      ],
      "execution_count": null,
      "outputs": [
        {
          "output_type": "stream",
          "text": [
            "The dot-product of ARRAY 6 and ARRAY 7 is  :   57400.0\n"
          ],
          "name": "stdout"
        }
      ]
    },
    {
      "cell_type": "markdown",
      "metadata": {
        "id": "8XCk8vp0Dq9Q",
        "colab_type": "text"
      },
      "source": [
        "**5.**\n",
        "\n",
        "**Create two 2-D array with shape (5,5) with name array9 and array10.**\n",
        "\n",
        "**Apply any\n",
        "five array arithmetic operations** \n",
        "\n",
        "**Any five array aggregate functions on array9\n",
        "and array10.**"
      ]
    },
    {
      "cell_type": "code",
      "metadata": {
        "id": "jf9JYAJbDayY",
        "colab_type": "code",
        "colab": {
          "base_uri": "https://localhost:8080/",
          "height": 255
        },
        "outputId": "05e837df-b386-4445-f323-1016935002ad"
      },
      "source": [
        "\n",
        "array9=np.full([5,5],10)          # Creating array of shape (5,5) with value 10 \n",
        "print(\"ARRAY 9\")\n",
        "print(array9)\n",
        "print(\"---------------------------------------------------------\")\n",
        "\n",
        "array10=np.full([5,5],20)         # Creating array of shape (5,5) with value 20\n",
        "print(\"ARRAY 10\")\n",
        "print()\n",
        "print(array10)"
      ],
      "execution_count": null,
      "outputs": [
        {
          "output_type": "stream",
          "text": [
            "ARRAY 9\n",
            "[[10 10 10 10 10]\n",
            " [10 10 10 10 10]\n",
            " [10 10 10 10 10]\n",
            " [10 10 10 10 10]\n",
            " [10 10 10 10 10]]\n",
            "---------------------------------------------------------\n",
            "ARRAY 10\n",
            "\n",
            "[[20 20 20 20 20]\n",
            " [20 20 20 20 20]\n",
            " [20 20 20 20 20]\n",
            " [20 20 20 20 20]\n",
            " [20 20 20 20 20]]\n"
          ],
          "name": "stdout"
        }
      ]
    },
    {
      "cell_type": "code",
      "metadata": {
        "id": "dwjaWBdLEMXR",
        "colab_type": "code",
        "colab": {}
      },
      "source": [
        "\n",
        "\"\"\" \n",
        "This below function is Modular ,this function help's \n",
        "to do both Array Arithmetic operation as well as \n",
        "Arithmetic Operation with Array and Numbers \n",
        "\n",
        "Arguments:\n",
        "(arg1) :  type(Array)   ( array3 ) \n",
        "(arg2) :  type(Array)   ( array4 )   or type(int)  (Number) given by User\n",
        "\n",
        "Function : Print the Arithmetic Operations\n",
        "\n",
        "Returns:\n",
        "  None \n",
        "\n",
        "\"\"\"\n",
        "\n",
        "def add(arr1,arr2):\n",
        "  print(np.add(arr1,arr2))\n",
        "\n",
        "def sub(arr1,arr2):\n",
        "  print(np.subtract(arr1,arr2))\n",
        "\n",
        "def multiply(arr1,arr2):\n",
        "  print(np.multiply(arr1,arr2))\n",
        "\n",
        "def divide(arr1,arr2):\n",
        "  print(np.divide(arr1,arr2))\n",
        "\n"
      ],
      "execution_count": null,
      "outputs": []
    },
    {
      "cell_type": "code",
      "metadata": {
        "id": "RFIe0nviZYip",
        "colab_type": "code",
        "colab": {
          "base_uri": "https://localhost:8080/",
          "height": 493
        },
        "outputId": "9386e695-7554-4f6b-b275-35fcfee3526f"
      },
      "source": [
        "print(\"Addition of Array_9 and Array_10\")\n",
        "add(array9,array10)\n",
        "print()\n",
        "print(\"Subraction of Array_9 from Array_10\")\n",
        "sub(array9,array10)\n",
        "print()\n",
        "print(\"Multiplication of Array_9 with Array_10\")\n",
        "multiply(array9,array10)\n",
        "print()\n",
        "print(\"Division of Array_9 by Array_10\")\n",
        "divide(array9,array10)\n",
        "print()\n"
      ],
      "execution_count": null,
      "outputs": [
        {
          "output_type": "stream",
          "text": [
            "Addition of Array_9 and Array_10\n",
            "[[30 30 30 30 30]\n",
            " [30 30 30 30 30]\n",
            " [30 30 30 30 30]\n",
            " [30 30 30 30 30]\n",
            " [30 30 30 30 30]]\n",
            "\n",
            "Subraction of Array_9 from Array_10\n",
            "[[-10 -10 -10 -10 -10]\n",
            " [-10 -10 -10 -10 -10]\n",
            " [-10 -10 -10 -10 -10]\n",
            " [-10 -10 -10 -10 -10]\n",
            " [-10 -10 -10 -10 -10]]\n",
            "\n",
            "Multiplication of Array_9 with Array_10\n",
            "[[200 200 200 200 200]\n",
            " [200 200 200 200 200]\n",
            " [200 200 200 200 200]\n",
            " [200 200 200 200 200]\n",
            " [200 200 200 200 200]]\n",
            "\n",
            "Division of Array_9 by Array_10\n",
            "[[0.5 0.5 0.5 0.5 0.5]\n",
            " [0.5 0.5 0.5 0.5 0.5]\n",
            " [0.5 0.5 0.5 0.5 0.5]\n",
            " [0.5 0.5 0.5 0.5 0.5]\n",
            " [0.5 0.5 0.5 0.5 0.5]]\n",
            "\n"
          ],
          "name": "stdout"
        }
      ]
    },
    {
      "cell_type": "code",
      "metadata": {
        "id": "r3arjjiGZkMm",
        "colab_type": "code",
        "colab": {
          "base_uri": "https://localhost:8080/",
          "height": 34
        },
        "outputId": "2d27b272-b1c8-4bcc-82da-c294bc5769d6"
      },
      "source": [
        "N=int(input(\"Enter the Number to do Arithemetic Operations with Array\"))"
      ],
      "execution_count": null,
      "outputs": [
        {
          "output_type": "stream",
          "text": [
            "Enter the Number to do Arithemetic Operations with Array  10\n"
          ],
          "name": "stdout"
        }
      ]
    },
    {
      "cell_type": "code",
      "metadata": {
        "id": "M3z0l7DiHGZI",
        "colab_type": "code",
        "colab": {
          "base_uri": "https://localhost:8080/",
          "height": 493
        },
        "outputId": "8b6b2a5c-25cd-497e-af1a-ab2aa435e5a9"
      },
      "source": [
        "\n",
        "#Below code will Call the respective Modular Function defined above\n",
        "\n",
        "# Arithmetic Operations of both (Array 9 and Array 10) with a Number\n",
        "# since I have created a modular function ,I have used Array 9 with a Number \n",
        "# you can change to Array 10 and implement \n",
        "\n",
        "\n",
        "print(\"Addition of Array 9 and Number\")\n",
        "add(array9,N)\n",
        "print()\n",
        "\n",
        "print(\"Subraction of Array 9 from Number\")\n",
        "sub(array9,N)\n",
        "print()\n",
        "\n",
        "print(\"Multiplication of Array 9 with Number\")\n",
        "multiply(array9,N)\n",
        "print()\n",
        "\n",
        "print(\"Division of Array 9 by Number\")\n",
        "divide(array9,N)\n",
        "print()"
      ],
      "execution_count": null,
      "outputs": [
        {
          "output_type": "stream",
          "text": [
            "Addition of Array 9 and Number\n",
            "[[20 20 20 20 20]\n",
            " [20 20 20 20 20]\n",
            " [20 20 20 20 20]\n",
            " [20 20 20 20 20]\n",
            " [20 20 20 20 20]]\n",
            "\n",
            "Subraction of Array 9 from Number\n",
            "[[0 0 0 0 0]\n",
            " [0 0 0 0 0]\n",
            " [0 0 0 0 0]\n",
            " [0 0 0 0 0]\n",
            " [0 0 0 0 0]]\n",
            "\n",
            "Multiplication of Array 9 with Number\n",
            "[[100 100 100 100 100]\n",
            " [100 100 100 100 100]\n",
            " [100 100 100 100 100]\n",
            " [100 100 100 100 100]\n",
            " [100 100 100 100 100]]\n",
            "\n",
            "Division of Array 9 by Number\n",
            "[[1. 1. 1. 1. 1.]\n",
            " [1. 1. 1. 1. 1.]\n",
            " [1. 1. 1. 1. 1.]\n",
            " [1. 1. 1. 1. 1.]\n",
            " [1. 1. 1. 1. 1.]]\n",
            "\n"
          ],
          "name": "stdout"
        }
      ]
    },
    {
      "cell_type": "code",
      "metadata": {
        "id": "g5On0U7FHEcL",
        "colab_type": "code",
        "colab": {
          "base_uri": "https://localhost:8080/",
          "height": 493
        },
        "outputId": "520ce6ab-f5fe-43de-84d9-77323f63cc07"
      },
      "source": [
        "\n",
        "#Below code will Call the respective Modular Function \n",
        "\n",
        "# Arithmetic Operations with Array 10 and a Number\n",
        "\n",
        "print(\"Addition of Array_10 and Number\")\n",
        "add(array10,N)\n",
        "print()\n",
        "print(\"Subraction of Array_10 from Number\")\n",
        "sub(array10,N)\n",
        "print()\n",
        "print(\"Multiplication of Array_10 with Number\")\n",
        "multiply(array10,N)\n",
        "print()\n",
        "print(\"Division of Array_10 by Number\")\n",
        "divide(array10,N)\n",
        "print()"
      ],
      "execution_count": null,
      "outputs": [
        {
          "output_type": "stream",
          "text": [
            "Addition of Array_10 and Number\n",
            "[[30 30 30 30 30]\n",
            " [30 30 30 30 30]\n",
            " [30 30 30 30 30]\n",
            " [30 30 30 30 30]\n",
            " [30 30 30 30 30]]\n",
            "\n",
            "Subraction of Array_10 from Number\n",
            "[[10 10 10 10 10]\n",
            " [10 10 10 10 10]\n",
            " [10 10 10 10 10]\n",
            " [10 10 10 10 10]\n",
            " [10 10 10 10 10]]\n",
            "\n",
            "Multiplication of Array_10 with Number\n",
            "[[200 200 200 200 200]\n",
            " [200 200 200 200 200]\n",
            " [200 200 200 200 200]\n",
            " [200 200 200 200 200]\n",
            " [200 200 200 200 200]]\n",
            "\n",
            "Division of Array_10 by Number\n",
            "[[2. 2. 2. 2. 2.]\n",
            " [2. 2. 2. 2. 2.]\n",
            " [2. 2. 2. 2. 2.]\n",
            " [2. 2. 2. 2. 2.]\n",
            " [2. 2. 2. 2. 2.]]\n",
            "\n"
          ],
          "name": "stdout"
        }
      ]
    },
    {
      "cell_type": "code",
      "metadata": {
        "id": "_m6I09VrJfPw",
        "colab_type": "code",
        "colab": {
          "base_uri": "https://localhost:8080/",
          "height": 102
        },
        "outputId": "57f9f322-1a7b-4f35-872e-3b10371dfcac"
      },
      "source": [
        "\n",
        "# Aggregate Functions with Array 9 \n",
        "\n",
        "print(\"Smallest element in the array_9          :\",array9.min())\n",
        "print(\"Largest element in the array_9           :\",array9.max())\n",
        "print(\"Variance of Array_9                      :\",array9.var())\n",
        "print(\"Sum of element's in the array_9          :\",array9.sum())\n",
        "print(\"Mean value of array_9                    :\",array9.mean())"
      ],
      "execution_count": null,
      "outputs": [
        {
          "output_type": "stream",
          "text": [
            "Smallest element in the array_9          : 10\n",
            "Largest element in the array_9           : 10\n",
            "Variance of Array_9                      : 0.0\n",
            "Sum of element's in the array_9          : 250\n",
            "Mean value of array_9                    : 10.0\n"
          ],
          "name": "stdout"
        }
      ]
    },
    {
      "cell_type": "code",
      "metadata": {
        "id": "JrQrE1ntJfWr",
        "colab_type": "code",
        "colab": {
          "base_uri": "https://localhost:8080/",
          "height": 102
        },
        "outputId": "192703aa-fb79-456c-f183-eb752db3b4d4"
      },
      "source": [
        "# Aggregate Functions with Array 10\n",
        "\n",
        "print(\"Smallest element in the array_10          :\",array10.min())\n",
        "print(\"Largest element in the array_10           :\",array10.max())\n",
        "print(\"Variance of Array_10                      :\",array10.var())\n",
        "print(\"Sum of element's in the array_10          :\",array10.sum())\n",
        "print(\"Mean value of array_10                    :\",array9.mean())"
      ],
      "execution_count": null,
      "outputs": [
        {
          "output_type": "stream",
          "text": [
            "Smallest element in the array_10          : 20\n",
            "Largest element in the array_10           : 20\n",
            "Variance of Array_10                      : 0.0\n",
            "Sum of element's in the array_10          : 500\n",
            "Mean value of array_10                    : 10.0\n"
          ],
          "name": "stdout"
        }
      ]
    },
    {
      "cell_type": "markdown",
      "metadata": {
        "id": "mFoTZuPTfiwr",
        "colab_type": "text"
      },
      "source": [
        "**Thank You**"
      ]
    },
    {
      "cell_type": "code",
      "metadata": {
        "id": "ggGbJHjQJfeI",
        "colab_type": "code",
        "colab": {}
      },
      "source": [
        ""
      ],
      "execution_count": null,
      "outputs": []
    },
    {
      "cell_type": "code",
      "metadata": {
        "id": "dcls8lUDJfkU",
        "colab_type": "code",
        "colab": {}
      },
      "source": [
        ""
      ],
      "execution_count": null,
      "outputs": []
    },
    {
      "cell_type": "code",
      "metadata": {
        "id": "M1pEvx39Jfqk",
        "colab_type": "code",
        "colab": {}
      },
      "source": [
        ""
      ],
      "execution_count": null,
      "outputs": []
    },
    {
      "cell_type": "code",
      "metadata": {
        "id": "79MdMsXtJfwI",
        "colab_type": "code",
        "colab": {}
      },
      "source": [
        ""
      ],
      "execution_count": null,
      "outputs": []
    },
    {
      "cell_type": "code",
      "metadata": {
        "id": "fy7sktbnJXbm",
        "colab_type": "code",
        "colab": {}
      },
      "source": [
        ""
      ],
      "execution_count": null,
      "outputs": []
    }
  ]
}